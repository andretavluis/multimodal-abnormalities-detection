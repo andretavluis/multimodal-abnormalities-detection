{
 "cells": [
  {
   "cell_type": "code",
   "execution_count": 2,
   "metadata": {},
   "outputs": [],
   "source": [
    "import os, json\n",
    "import pandas as pd\n",
    "\n",
    "from data.paths import TabularDataPaths\n",
    "from utils import print as print_f\n",
    "from utils.preprocessing import get_split_list\n",
    "from data.constants import XAMI_MIMIC_PATH, SPREADSHEET_FOLDER\n",
    "from utils.init import reproducibility"
   ]
  },
  {
   "cell_type": "code",
   "execution_count": 3,
   "metadata": {},
   "outputs": [],
   "source": [
    "seed = 0\n",
    "reproducibility(0)\n",
    "\n",
    "XAMI_MIMIC_PATH_str = \"{XAMI_MIMIC_PATH}\""
   ]
  },
  {
   "cell_type": "code",
   "execution_count": 4,
   "metadata": {},
   "outputs": [],
   "source": [
    "reflacx_meta_df = pd.read_csv(\n",
    "    TabularDataPaths.SpreadSheet.get_sreadsheet(\n",
    "        XAMI_MIMIC_PATH, TabularDataPaths.SpreadSheet.REFLACX.metadata,\n",
    "    )\n",
    ")"
   ]
  },
  {
   "cell_type": "code",
   "execution_count": 5,
   "metadata": {},
   "outputs": [
    {
     "data": {
      "text/plain": [
       "3052"
      ]
     },
     "execution_count": 5,
     "metadata": {},
     "output_type": "execute_result"
    }
   ],
   "source": [
    "len(reflacx_meta_df)"
   ]
  },
  {
   "cell_type": "markdown",
   "metadata": {},
   "source": [
    "# Remove instances without eye tracking data."
   ]
  },
  {
   "cell_type": "code",
   "execution_count": 6,
   "metadata": {},
   "outputs": [],
   "source": [
    "reflacx_meta_df = reflacx_meta_df[reflacx_meta_df['eye_tracking_data_discarded'] == False]"
   ]
  },
  {
   "cell_type": "code",
   "execution_count": 7,
   "metadata": {},
   "outputs": [],
   "source": [
    "all_labels_cols = [\n",
    "    \"Airway wall thickening\",\n",
    "    \"Atelectasis\",\n",
    "    \"Consolidation\",\n",
    "    \"Enlarged cardiac silhouette\",\n",
    "    \"Fibrosis\",\n",
    "    \"Fracture\",\n",
    "    \"Groundglass opacity\",\n",
    "    \"Pneumothorax\",\n",
    "    \"Pulmonary edema\",\n",
    "    \"Wide mediastinum\",\n",
    "    \"Abnormal mediastinal contour\",\n",
    "    \"Acute fracture\",\n",
    "    \"Enlarged hilum\",\n",
    "    \"Quality issue\",\n",
    "    \"Support devices\",\n",
    "    \"Hiatal hernia\",\n",
    "    \"High lung volume / emphysema\",\n",
    "    \"Interstitial lung disease\",\n",
    "    \"Lung nodule or mass\",\n",
    "    \"Pleural abnormality\",\n",
    "]\n",
    "\n",
    "\n",
    "## inlcude the repetitive columns.\n",
    "all_disease_cols = [\n",
    "    \"Airway wall thickening\",\n",
    "    \"Atelectasis\",\n",
    "    \"Consolidation\",\n",
    "    \"Emphysema\",\n",
    "    \"Enlarged cardiac silhouette\",\n",
    "    \"Fibrosis\",\n",
    "    \"Fracture\",\n",
    "    \"Groundglass opacity\",\n",
    "    \"Mass\",\n",
    "    \"Nodule\",\n",
    "    \"Other\",\n",
    "    \"Pleural effusion\",\n",
    "    \"Pleural thickening\",\n",
    "    \"Pneumothorax\",\n",
    "    \"Pulmonary edema\",\n",
    "    \"Wide mediastinum\",\n",
    "    \"Abnormal mediastinal contour\",\n",
    "    \"Acute fracture\",\n",
    "    \"Enlarged hilum\",\n",
    "    \"Hiatal hernia\",\n",
    "    \"High lung volume / emphysema\",\n",
    "    \"Interstitial lung disease\",\n",
    "    \"Lung nodule or mass\",\n",
    "    \"Pleural abnormality\",\n",
    "]\n"
   ]
  },
  {
   "cell_type": "code",
   "execution_count": 8,
   "metadata": {},
   "outputs": [],
   "source": [
    "def checkMissingValue(df):\n",
    "    print(\n",
    "        [\n",
    "            (col, sum(df[col].isna()))\n",
    "            for col in df.columns\n",
    "            if df[col].isna().any()\n",
    "        ]\n",
    "    )"
   ]
  },
  {
   "cell_type": "code",
   "execution_count": 9,
   "metadata": {},
   "outputs": [
    {
     "name": "stdout",
     "output_type": "stream",
     "text": [
      "====================Columns have NaN value in REFLACX metadata====================\n",
      "[('Airway wall thickening', 2747), ('Emphysema', 2747), ('Fibrosis', 2747), ('Fracture', 2747), ('Mass', 2747), ('Nodule', 2747), ('Other', 2821), ('Pleural effusion', 2747), ('Pleural thickening', 2747), ('Quality issue', 2747), ('Wide mediastinum', 2747), ('Abnormal mediastinal contour', 285), ('Acute fracture', 285), ('Enlarged hilum', 285), ('Hiatal hernia', 285), ('High lung volume / emphysema', 285), ('Interstitial lung disease', 285), ('Lung nodule or mass', 285), ('Pleural abnormality', 285)]\n"
     ]
    }
   ],
   "source": [
    "# Checking the columns that contian nan values.\n",
    "print_f.print_title(\"Columns have NaN value in REFLACX metadata\")\n",
    "checkMissingValue(reflacx_meta_df)"
   ]
  },
  {
   "cell_type": "code",
   "execution_count": 10,
   "metadata": {},
   "outputs": [],
   "source": [
    "# Filling nan for numerical cols.\n",
    "reflacx_meta_df[all_disease_cols] = reflacx_meta_df[all_disease_cols].fillna(0)\n",
    "\n",
    "# Folling nan for boolean cols.\n",
    "reflacx_meta_df[[\"Quality issue\", \"Support devices\"]] = reflacx_meta_df[\n",
    "    [\"Quality issue\", \"Support devices\"]\n",
    "].fillna(False)\n",
    "\n"
   ]
  },
  {
   "cell_type": "code",
   "execution_count": 11,
   "metadata": {},
   "outputs": [
    {
     "name": "stdout",
     "output_type": "stream",
     "text": [
      "====================Columns have missing value in REFLACX metadata.====================\n",
      "[]\n"
     ]
    }
   ],
   "source": [
    "print_f.print_title(\"Columns have missing value in REFLACX metadata.\")\n",
    "\n",
    "checkMissingValue(reflacx_meta_df)\n"
   ]
  },
  {
   "cell_type": "code",
   "execution_count": 12,
   "metadata": {},
   "outputs": [],
   "source": [
    "reflacx_meta_df[\"Lung nodule or mass\"] = reflacx_meta_df[\n",
    "    [\"Lung nodule or mass\", \"Mass\", \"Nodule\"]\n",
    "].max(axis=1)\n",
    "del reflacx_meta_df[\"Mass\"]\n",
    "del reflacx_meta_df[\"Nodule\"]\n",
    "\n",
    "reflacx_meta_df[\"High lung volume / emphysema\"] = reflacx_meta_df[\n",
    "    [\"High lung volume / emphysema\", \"Emphysema\"]\n",
    "].max(axis=1)\n",
    "del reflacx_meta_df[\"Emphysema\"]\n",
    "\n",
    "\n",
    "reflacx_meta_df[\"Pleural abnormality\"] = reflacx_meta_df[\n",
    "    [\"Pleural abnormality\", \"Pleural thickening\", \"Pleural effusion\"]\n",
    "].max(axis=1)\n",
    "\n",
    "del reflacx_meta_df[\"Pleural thickening\"]\n",
    "del reflacx_meta_df[\"Pleural effusion\"]"
   ]
  },
  {
   "cell_type": "code",
   "execution_count": 13,
   "metadata": {},
   "outputs": [],
   "source": [
    "cxr_meta_df = pd.read_csv(\n",
    "    TabularDataPaths.SpreadSheet.get_sreadsheet(\n",
    "        XAMI_MIMIC_PATH, TabularDataPaths.SpreadSheet.cxr_meta\n",
    "    )\n",
    ")"
   ]
  },
  {
   "cell_type": "code",
   "execution_count": 14,
   "metadata": {},
   "outputs": [],
   "source": [
    "merged_df = (\n",
    "    reflacx_meta_df.merge(\n",
    "        cxr_meta_df,\n",
    "        \"left\",\n",
    "        left_on=\"dicom_id\",\n",
    "        right_on=\"dicom_id\",\n",
    "        suffixes=(\"\", \"cxr\"),\n",
    "    )\n",
    ")\n"
   ]
  },
  {
   "cell_type": "code",
   "execution_count": 15,
   "metadata": {},
   "outputs": [],
   "source": [
    "## Calculate the age according to the time when the CXR taken.\n",
    "merged_df[\"image_path\"] = (\n",
    "    f\"{XAMI_MIMIC_PATH_str}\\patient_\"\n",
    "    + merged_df[\"subject_id\"].astype(str)\n",
    "    + \"\\CXR-JPG\\s\"\n",
    "    + merged_df[\"study_id\"].astype(str)\n",
    "    + \"\\\\\"\n",
    "    + merged_df[\"dicom_id\"].astype(str)\n",
    "    + \".jpg\"\n",
    ")\n",
    "\n",
    "merged_df[\"anomaly_location_ellipses_path\"] = (\n",
    "    f\"{XAMI_MIMIC_PATH_str}\\patient_\"\n",
    "    + merged_df[\"subject_id\"].astype(str)\n",
    "    + \"\\REFLACX\\\\\"\n",
    "    + merged_df[\"id\"].astype(str)\n",
    "    + \"\\\\anomaly_location_ellipses.csv\"\n",
    ")\n",
    "\n",
    "merged_df[\"fixations_path\"] = (\n",
    "    f\"{XAMI_MIMIC_PATH_str}\\patient_\"\n",
    "    + merged_df[\"subject_id\"].astype(str)\n",
    "    + \"\\REFLACX\\\\\"\n",
    "    + merged_df[\"id\"].astype(str)\n",
    "    + \"\\\\fixations.csv\"\n",
    ")\n",
    "\n"
   ]
  },
  {
   "cell_type": "code",
   "execution_count": 16,
   "metadata": {},
   "outputs": [],
   "source": [
    "# len(merged_df)"
   ]
  },
  {
   "cell_type": "code",
   "execution_count": 17,
   "metadata": {},
   "outputs": [],
   "source": [
    "# from data.constants import XAMI_MIMIC_PATH"
   ]
  },
  {
   "cell_type": "code",
   "execution_count": 18,
   "metadata": {},
   "outputs": [],
   "source": [
    "# fixation_exist = merged_df['fixations_path'].apply(lambda x: os.path.isfile(x.replace(\"{XAMI_MIMIC_PATH}\", XAMI_MIMIC_PATH)))\n",
    "# merged_df = merged_df[fixation_exist]"
   ]
  },
  {
   "cell_type": "code",
   "execution_count": 19,
   "metadata": {},
   "outputs": [],
   "source": [
    "# len(merged_df)"
   ]
  },
  {
   "cell_type": "code",
   "execution_count": 20,
   "metadata": {},
   "outputs": [],
   "source": [
    "needed_columns = [\n",
    "    # ids\n",
    "    \"id\",\n",
    "    \"dicom_id\",\n",
    "    \"subject_id\",\n",
    "    \"stay_id\",\n",
    "    \"study_id\",\n",
    "    # image meta\n",
    "    \"image_path\",\n",
    "    \"ViewPosition\",\n",
    "    \"image_size_x\",\n",
    "    \"image_size_y\",\n",
    "    \"anomaly_location_ellipses_path\",\n",
    "    \"fixations_path\",\n",
    "    # labels\n",
    "    \"Airway wall thickening\",\n",
    "    \"Atelectasis\",\n",
    "    \"Consolidation\",\n",
    "    \"Enlarged cardiac silhouette\",\n",
    "    \"Fibrosis\",\n",
    "    \"Groundglass opacity\",\n",
    "    \"Other\",\n",
    "    \"Pneumothorax\",\n",
    "    \"Pulmonary edema\",\n",
    "    \"Quality issue\",\n",
    "    \"Support devices\",\n",
    "    \"Wide mediastinum\",\n",
    "    \"Abnormal mediastinal contour\",\n",
    "    \"Acute fracture\",\n",
    "    \"Enlarged hilum\",\n",
    "    \"Hiatal hernia\",\n",
    "    \"High lung volume / emphysema\",\n",
    "    \"Interstitial lung disease\",\n",
    "    \"Lung nodule or mass\",\n",
    "    \"Pleural abnormality\",\n",
    "    'Fracture' # don't have any positive case\n",
    "]\n",
    "\n",
    "merged_df = merged_df[needed_columns]\n"
   ]
  },
  {
   "cell_type": "code",
   "execution_count": 21,
   "metadata": {},
   "outputs": [],
   "source": [
    "merged_df['split'] = get_split_list(len(merged_df), train_portion=0.7)"
   ]
  },
  {
   "cell_type": "code",
   "execution_count": 22,
   "metadata": {},
   "outputs": [
    {
     "data": {
      "text/plain": [
       "OrderedDict([('Fibrosis', 5),\n",
       "             ('Quality issue', 9),\n",
       "             ('Wide mediastinum', 10),\n",
       "             ('Fracture', 12),\n",
       "             ('Airway wall thickening', 21),\n",
       "             ('Hiatal hernia', 24),\n",
       "             ('Acute fracture', 33),\n",
       "             ('Interstitial lung disease', 34),\n",
       "             ('Enlarged hilum', 56),\n",
       "             ('Abnormal mediastinal contour', 84),\n",
       "             ('High lung volume / emphysema', 89),\n",
       "             ('Pneumothorax', 105),\n",
       "             ('Lung nodule or mass', 162),\n",
       "             ('Groundglass opacity', 389),\n",
       "             ('Pulmonary edema', 427),\n",
       "             ('Enlarged cardiac silhouette', 710),\n",
       "             ('Consolidation', 814),\n",
       "             ('Atelectasis', 840),\n",
       "             ('Pleural abnormality', 933),\n",
       "             ('Support devices', 1305)])"
      ]
     },
     "execution_count": 22,
     "metadata": {},
     "output_type": "execute_result"
    }
   ],
   "source": [
    "from collections import OrderedDict\n",
    "\n",
    "count_map = dict((merged_df[all_labels_cols]>0).sum(axis=0))\n",
    "OrderedDict({k: v for k, v in sorted(count_map.items(), key=lambda item: item[1])})"
   ]
  },
  {
   "cell_type": "markdown",
   "metadata": {},
   "source": [
    "# Exporting"
   ]
  },
  {
   "cell_type": "code",
   "execution_count": 23,
   "metadata": {},
   "outputs": [],
   "source": [
    "merged_df = merged_df.reset_index()\n",
    "merged_df.to_csv(os.path.join(SPREADSHEET_FOLDER, \"reflacx_for_eyetracking.csv\"))"
   ]
  },
  {
   "cell_type": "code",
   "execution_count": 24,
   "metadata": {},
   "outputs": [
    {
     "data": {
      "text/plain": [
       "index                                                                             0\n",
       "id                                                                      P102R108387\n",
       "dicom_id                               34cedb74-d0996b40-6d218312-a9174bea-d48dc033\n",
       "subject_id                                                                 18111516\n",
       "stay_id                                                                  32067002.0\n",
       "study_id                                                                   55032240\n",
       "image_path                        {XAMI_MIMIC_PATH}\\patient_18111516\\CXR-JPG\\s55...\n",
       "ViewPosition                                                                     AP\n",
       "image_size_x                                                                   2544\n",
       "image_size_y                                                                   3056\n",
       "anomaly_location_ellipses_path    {XAMI_MIMIC_PATH}\\patient_18111516\\REFLACX\\P10...\n",
       "fixations_path                    {XAMI_MIMIC_PATH}\\patient_18111516\\REFLACX\\P10...\n",
       "Airway wall thickening                                                          0.0\n",
       "Atelectasis                                                                     0.0\n",
       "Consolidation                                                                   0.0\n",
       "Enlarged cardiac silhouette                                                     5.0\n",
       "Fibrosis                                                                        0.0\n",
       "Groundglass opacity                                                             0.0\n",
       "Other                                                                             0\n",
       "Pneumothorax                                                                    0.0\n",
       "Pulmonary edema                                                                 0.0\n",
       "Quality issue                                                                 False\n",
       "Support devices                                                                True\n",
       "Wide mediastinum                                                                0.0\n",
       "Abnormal mediastinal contour                                                    0.0\n",
       "Acute fracture                                                                  0.0\n",
       "Enlarged hilum                                                                  0.0\n",
       "Hiatal hernia                                                                   0.0\n",
       "High lung volume / emphysema                                                    0.0\n",
       "Interstitial lung disease                                                       0.0\n",
       "Lung nodule or mass                                                             0.0\n",
       "Pleural abnormality                                                             0.0\n",
       "Fracture                                                                        0.0\n",
       "split                                                                         train\n",
       "Name: 0, dtype: object"
      ]
     },
     "execution_count": 24,
     "metadata": {},
     "output_type": "execute_result"
    }
   ],
   "source": [
    "exp_instance = merged_df.iloc[0]\n",
    "exp_instance"
   ]
  },
  {
   "cell_type": "markdown",
   "metadata": {},
   "source": [
    "# Heatmap example"
   ]
  },
  {
   "cell_type": "code",
   "execution_count": 25,
   "metadata": {},
   "outputs": [],
   "source": [
    "from data.fixation import get_heatmap,  get_fixations_dict_from_fixation_df, process_image\n",
    "import matplotlib.pyplot as plt\n",
    "import matplotlib.image as mpimg\n",
    "import numpy as np\n",
    "\n",
    "import sys\n",
    "# np.set_printoptions(threshold=sys.maxsize)\n"
   ]
  },
  {
   "cell_type": "code",
   "execution_count": 26,
   "metadata": {},
   "outputs": [],
   "source": [
    "fixation_csv_path = exp_instance['fixations_path']\n",
    "image_path = exp_instance['image_path'].replace(\"{XAMI_MIMIC_PATH}\", XAMI_MIMIC_PATH)\n",
    "fixation_df = pd.read_csv(fixation_csv_path.replace(\"{XAMI_MIMIC_PATH}\", XAMI_MIMIC_PATH))"
   ]
  },
  {
   "cell_type": "code",
   "execution_count": 27,
   "metadata": {},
   "outputs": [
    {
     "data": {
      "text/plain": [
       "<matplotlib.image.AxesImage at 0x23105c8b850>"
      ]
     },
     "execution_count": 27,
     "metadata": {},
     "output_type": "execute_result"
    },
    {
     "data": {
      "image/png": "[encoded data removed]",
      "text/plain": [
       "<Figure size 432x288 with 1 Axes>"
      ]
     },
     "metadata": {
      "needs_background": "light"
     },
     "output_type": "display_data"
    }
   ],
   "source": [
    "img = mpimg.imread(image_path)\n",
    "plt.imshow(img)\n",
    "# print(img)\n"
   ]
  },
  {
   "cell_type": "code",
   "execution_count": 28,
   "metadata": {},
   "outputs": [
    {
     "data": {
      "text/plain": [
       "<matplotlib.image.AxesImage at 0x2310b729400>"
      ]
     },
     "execution_count": 28,
     "metadata": {},
     "output_type": "execute_result"
    },
    {
     "data": {
      "image/png": "[encoded data removed]",
      "text/plain": [
       "<Figure size 432x288 with 1 Axes>"
      ]
     },
     "metadata": {
      "needs_background": "light"
     },
     "output_type": "display_data"
    }
   ],
   "source": [
    "time_heatmap = get_heatmap(get_fixations_dict_from_fixation_df(fixation_df), (exp_instance.image_size_x, exp_instance.image_size_y)).astype(np.float32)\n",
    "plt.imshow(time_heatmap)\n",
    "# print(time_heatmap.astype(np.float32))"
   ]
  },
  {
   "cell_type": "code",
   "execution_count": 29,
   "metadata": {},
   "outputs": [
    {
     "data": {
      "text/plain": [
       "<matplotlib.image.AxesImage at 0x2310f2e8700>"
      ]
     },
     "execution_count": 29,
     "metadata": {},
     "output_type": "execute_result"
    },
    {
     "data": {
      "image/png": "[encoded data removed]",
      "text/plain": [
       "<Figure size 432x288 with 1 Axes>"
      ]
     },
     "metadata": {
      "needs_background": "light"
     },
     "output_type": "display_data"
    }
   ],
   "source": [
    "pupil_heatmap = get_heatmap(get_fixations_dict_from_fixation_df(fixation_df), (exp_instance.image_size_x, exp_instance.image_size_y), pupil=True).astype(np.float32)\n",
    "plt.imshow(pupil_heatmap)\n",
    "# print(pupil_heatmap.astype(np.float32))"
   ]
  },
  {
   "cell_type": "code",
   "execution_count": 30,
   "metadata": {},
   "outputs": [
    {
     "data": {
      "image/png": "[encoded data removed]",
      "text/plain": [
       "<Figure size 432x288 with 1 Axes>"
      ]
     },
     "metadata": {
      "needs_background": "light"
     },
     "output_type": "display_data"
    }
   ],
   "source": [
    "im1 = plt.imshow(time_heatmap, cmap='Greys')\n",
    "im2 = plt.imshow(pupil_heatmap, cmap='Greys')\n",
    "# im3 = plt.imshow(img, cmap='Greys')\n",
    "\n",
    "plt.show()"
   ]
  },
  {
   "cell_type": "code",
   "execution_count": 31,
   "metadata": {},
   "outputs": [
    {
     "data": {
      "image/png": "[encoded data removed]",
      "text/plain": [
       "<Figure size 432x288 with 1 Axes>"
      ]
     },
     "metadata": {
      "needs_background": "light"
     },
     "output_type": "display_data"
    }
   ],
   "source": [
    "im1 = plt.imshow(time_heatmap, cmap='Greys')\n",
    "im2 = plt.imshow(pupil_heatmap)\n",
    "# im3 = plt.imshow(img, cmap='Greys')\n",
    "\n",
    "plt.show()"
   ]
  },
  {
   "cell_type": "code",
   "execution_count": 32,
   "metadata": {},
   "outputs": [],
   "source": [
    "def mse(imageA, imageB):\n",
    "\t# the 'Mean Squared Error' between the two images is the\n",
    "\t# sum of the squared difference between the two images;\n",
    "\t# NOTE: the two images must have the same dimension\n",
    "\terr = np.sum((imageA.astype(\"float\") - imageB.astype(\"float\")) ** 2)\n",
    "\terr /= float(imageA.shape[0] * imageA.shape[1])\n",
    "\t\n",
    "\t# return the MSE, the lower the error, the more \"similar\"\n",
    "\t# the two images are\n",
    "\treturn err"
   ]
  },
  {
   "cell_type": "code",
   "execution_count": 33,
   "metadata": {},
   "outputs": [
    {
     "data": {
      "text/plain": [
       "0.021321984837428684"
      ]
     },
     "execution_count": 33,
     "metadata": {},
     "output_type": "execute_result"
    }
   ],
   "source": [
    "mse(time_heatmap,pupil_heatmap)"
   ]
  },
  {
   "cell_type": "markdown",
   "metadata": {},
   "source": [
    "IMAGE PIXELS RANGE FROM 0 TO 255 \n",
    "\n",
    "HEATMAPS RANGE FROM 0 TO WHATEVER VALUE THE PROBABILITY GIVES. \n",
    "\n",
    "Normalize both between 0 and 1"
   ]
  },
  {
   "cell_type": "code",
   "execution_count": null,
   "metadata": {},
   "outputs": [],
   "source": [
    "transforms = Callable[\n",
    "        [Image.Image, Dict], Tuple[torch.Tensor, Dict]\n",
    "    ]"
   ]
  },
  {
   "cell_type": "code",
   "execution_count": 34,
   "metadata": {},
   "outputs": [],
   "source": [
    "from sklearn.preprocessing import minmax_scale\n",
    "from sklearn.preprocessing import MinMaxScaler"
   ]
  },
  {
   "cell_type": "code",
   "execution_count": 56,
   "metadata": {},
   "outputs": [
    {
     "name": "stdout",
     "output_type": "stream",
     "text": [
      "[143 143 142 ...   0   0   0]\n",
      "[0.55813953 0.55607477 0.55188679 ... 0.         0.         0.        ]\n"
     ]
    }
   ],
   "source": [
    "img = mpimg.imread(image_path)\n",
    "print(img[0])\n",
    "img = minmax_scale(img)\n",
    "print(img[0])"
   ]
  },
  {
   "cell_type": "code",
   "execution_count": 60,
   "metadata": {},
   "outputs": [
    {
     "data": {
      "text/plain": [
       "2"
      ]
     },
     "execution_count": 60,
     "metadata": {},
     "output_type": "execute_result"
    }
   ],
   "source": [
    "img.ndim"
   ]
  },
  {
   "cell_type": "code",
   "execution_count": 45,
   "metadata": {},
   "outputs": [
    {
     "name": "stdout",
     "output_type": "stream",
     "text": [
      "[143 143 142 ...   0   0   0]\n",
      "[0.56078434 0.56078434 0.5568628  ... 0.         0.         0.        ]\n"
     ]
    }
   ],
   "source": [
    "img = mpimg.imread(image_path)\n",
    "print(img[0])\n",
    "img = process_image(img)\n",
    "print(img[0])\n"
   ]
  },
  {
   "cell_type": "code",
   "execution_count": 55,
   "metadata": {},
   "outputs": [
    {
     "name": "stdout",
     "output_type": "stream",
     "text": [
      "<class 'numpy.ndarray'>\n",
      "<class 'numpy.ndarray'>\n"
     ]
    }
   ],
   "source": [
    "time_heatmap = get_heatmap(get_fixations_dict_from_fixation_df(fixation_df), (exp_instance.image_size_x, exp_instance.image_size_y)).astype(np.float32)\n",
    "print(type(time_heatmap))\n",
    "time_heatmap = minmax_scale(time_heatmap)\n",
    "print(type(time_heatmap))\n"
   ]
  },
  {
   "cell_type": "code",
   "execution_count": 38,
   "metadata": {},
   "outputs": [
    {
     "name": "stdout",
     "output_type": "stream",
     "text": [
      "Time Heatmap\n",
      "Min: 0.000, Max: 1.000\n"
     ]
    }
   ],
   "source": [
    "time_heatmap = minmax_scale(time_heatmap)\n",
    "print('Time Heatmap')\n",
    "print('Min: %.3f, Max: %.3f' % (time_heatmap.min(), time_heatmap.max()))"
   ]
  },
  {
   "cell_type": "code",
   "execution_count": 39,
   "metadata": {},
   "outputs": [
    {
     "name": "stdout",
     "output_type": "stream",
     "text": [
      "Pupil Heatmap\n",
      "Min: 0.000, Max: 1.000\n"
     ]
    }
   ],
   "source": [
    "pupil_heatmap = minmax_scale(pupil_heatmap)\n",
    "print('Pupil Heatmap')\n",
    "print('Min: %.3f, Max: %.3f' % (pupil_heatmap.min(), pupil_heatmap.max()))"
   ]
  },
  {
   "cell_type": "code",
   "execution_count": 40,
   "metadata": {},
   "outputs": [
    {
     "name": "stdout",
     "output_type": "stream",
     "text": [
      "CXR images\n",
      "Min: 0.000, Max: 1.000\n"
     ]
    }
   ],
   "source": [
    "img = minmax_scale(img)\n",
    "print('CXR images')\n",
    "print('Min: %.3f, Max: %.3f' % (img.min(), img.max()))"
   ]
  },
  {
   "cell_type": "code",
   "execution_count": null,
   "metadata": {},
   "outputs": [],
   "source": []
  }
 ],
 "metadata": {
  "kernelspec": {
   "display_name": "Python 3.9.7 ('base')",
   "language": "python",
   "name": "python3"
  },
  "language_info": {
   "codemirror_mode": {
    "name": "ipython",
    "version": 3
   },
   "file_extension": ".py",
   "mimetype": "text/x-python",
   "name": "python",
   "nbconvert_exporter": "python",
   "pygments_lexer": "ipython3",
   "version": "3.9.7"
  },
  "orig_nbformat": 4,
  "vscode": {
   "interpreter": {
    "hash": "d2b4c68e18acfab416f9980befd91f6d572217495ef701c2da267a02b76310ea"
   }
  }
 },
 "nbformat": 4,
 "nbformat_minor": 2
}
